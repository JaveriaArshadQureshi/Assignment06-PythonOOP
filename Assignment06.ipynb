{
  "nbformat": 4,
  "nbformat_minor": 0,
  "metadata": {
    "colab": {
      "provenance": [],
      "authorship_tag": "ABX9TyNMqakciHMtGu6WFzAzpdHy",
      "include_colab_link": true
    },
    "kernelspec": {
      "name": "python3",
      "display_name": "Python 3"
    },
    "language_info": {
      "name": "python"
    }
  },
  "cells": [
    {
      "cell_type": "markdown",
      "metadata": {
        "id": "view-in-github",
        "colab_type": "text"
      },
      "source": [
        "<a href=\"https://colab.research.google.com/github/JaveriaArshadQureshi/Assignment06-PythonOOP/blob/main/Assignment06.ipynb\" target=\"_parent\"><img src=\"https://colab.research.google.com/assets/colab-badge.svg\" alt=\"Open In Colab\"/></a>"
      ]
    },
    {
      "cell_type": "markdown",
      "source": [
        "#1.Using self\n",
        "Assignment:<br>\n",
        "Create a class Student with attributes name and marks. Use the self keyword to initialize these values via a constructor. Add a method display() that prints student details."
      ],
      "metadata": {
        "id": "C4IumAbSBOjP"
      }
    },
    {
      "cell_type": "code",
      "execution_count": null,
      "metadata": {
        "colab": {
          "base_uri": "https://localhost:8080/"
        },
        "id": "WbSxUOkLA9Yj",
        "outputId": "710879d8-67a7-46a1-c388-a86685011e24"
      },
      "outputs": [
        {
          "output_type": "stream",
          "name": "stdout",
          "text": [
            "Name : Ali\n",
            "Marks : 90\n",
            "Name : Ahmed\n",
            "Marks : 80\n"
          ]
        }
      ],
      "source": [
        "class Student:\n",
        "  def __init__(self,name,marks):\n",
        "    self.name = name\n",
        "    self.marks = marks\n",
        "\n",
        "  def display(self):\n",
        "    print(\"Name :\",self.name)\n",
        "    print(\"Marks :\",self.marks)\n",
        "\n",
        "Student1 = Student(\"Ali\",90)\n",
        "Student2 = Student(\"Ahmed\",80)\n",
        "\n",
        "Student1.display()\n",
        "Student2.display()\n"
      ]
    },
    {
      "cell_type": "markdown",
      "source": [
        "#2. Using cls\n",
        "Assignment:<br>\n",
        "Create a class Counter that keeps track of how many objects have been created. Use a class variable and a class method with cls to manage and display the count."
      ],
      "metadata": {
        "id": "1upM4o4pGGEU"
      }
    },
    {
      "cell_type": "code",
      "source": [
        "class Counter:\n",
        "    count = 0 # class variable\n",
        "\n",
        "    def __init__(self):\n",
        "      Counter.count +=1 # to make Every new object count increase by 1\n",
        "\n",
        "    @classmethod\n",
        "    def  display_count(cls):\n",
        "      print(\"Total objects created:\", cls.count)\n",
        "\n",
        "# calling numders of object\n",
        "object1 = Counter()\n",
        "Counter.display_count()\n",
        "\n",
        "object2 = Counter()\n",
        "Counter.display_count()\n",
        "\n",
        "object3 = Counter()\n",
        "Counter.display_count()"
      ],
      "metadata": {
        "colab": {
          "base_uri": "https://localhost:8080/"
        },
        "id": "3g3X_kNxGUMQ",
        "outputId": "694b50b7-deae-4099-e586-2cd26b433aeb"
      },
      "execution_count": null,
      "outputs": [
        {
          "output_type": "stream",
          "name": "stdout",
          "text": [
            "Total objects created: 1\n",
            "Total objects created: 2\n",
            "Total objects created: 3\n"
          ]
        }
      ]
    },
    {
      "cell_type": "markdown",
      "source": [
        "#3.Public Variables and Methods\n",
        "Assignment:<br>\n",
        "Create a class Car with a public variable brand and a public method start(). Instantiate the class and access both from outside the class.\n",
        "\n"
      ],
      "metadata": {
        "id": "KFtjXGksMrVJ"
      }
    },
    {
      "cell_type": "code",
      "source": [
        "class Car:\n",
        "  def __init__(self, brand):\n",
        "    self.brand = brand # public Variable\n",
        "\n",
        "  def start(self): # Public Method\n",
        "    print(f\"{self.brand} car started.\")\n",
        "\n",
        "my_car = Car(\"Honda\")\n",
        "\n",
        "#Public Variable access\n",
        "print(\"Car brand: \", my_car.brand)\n",
        "\n",
        "my_car.start() # Public Method access"
      ],
      "metadata": {
        "colab": {
          "base_uri": "https://localhost:8080/"
        },
        "id": "gBjltuZ3OL_k",
        "outputId": "0e0d490f-e49b-4845-eb94-4f979dd6695c"
      },
      "execution_count": null,
      "outputs": [
        {
          "output_type": "stream",
          "name": "stdout",
          "text": [
            "Car brand:  Honda\n",
            "Honda car started.\n"
          ]
        }
      ]
    },
    {
      "cell_type": "markdown",
      "source": [
        "#4. Class Variables and Class Methods\n",
        "Assignment:<br>\n",
        "Create a class Bank with a class variable bank_name. Add a class method change_bank_name(cls, name) that allows changing the bank name. Show that it affects all instances."
      ],
      "metadata": {
        "id": "7UONokqQR0ag"
      }
    },
    {
      "cell_type": "code",
      "source": [
        "class Bank:\n",
        "  bank_name = \"ABC bank\" # class variable\n",
        "  @classmethod\n",
        "  def change_bank_name(cls, name):# changing/updating variable value method\n",
        "    cls.bank_name = name\n",
        "\n",
        "print(Bank.bank_name)\n",
        "Bank.change_bank_name(\"XYZ bank\")\n",
        "print(Bank.bank_name)\n",
        "\n",
        "\n"
      ],
      "metadata": {
        "colab": {
          "base_uri": "https://localhost:8080/"
        },
        "id": "G1ng9R6-_7bh",
        "outputId": "4eba50ad-e950-4df4-bf55-8a6771fa6f5f"
      },
      "execution_count": null,
      "outputs": [
        {
          "output_type": "stream",
          "name": "stdout",
          "text": [
            "ABC bank\n",
            "XYZ bank\n"
          ]
        }
      ]
    },
    {
      "cell_type": "markdown",
      "source": [
        "#5. Static Variables and Static Methods\n",
        "Assignment:<br>\n",
        "Create a class MathUtils with a static method add(a, b) that returns the sum. No class or instance variables should be used.\n",
        "\n"
      ],
      "metadata": {
        "id": "KZqzsSJ5QLc5"
      }
    },
    {
      "cell_type": "code",
      "source": [
        "class MathUtils:\n",
        "  @staticmethod\n",
        "  def add(a,b):\n",
        "    sum = a + b\n",
        "    return sum\n",
        "\n",
        "sum = MathUtils.add(10,12)\n",
        "print(\"Sum of two numbers :\", sum)\n",
        "sum = MathUtils.add(10,16)\n",
        "print(\"Sum of two numbers :\", sum)\n"
      ],
      "metadata": {
        "colab": {
          "base_uri": "https://localhost:8080/"
        },
        "id": "xW9Hd0tJnaUr",
        "outputId": "950d894c-d0ed-466c-8e5d-0faf725e4748"
      },
      "execution_count": null,
      "outputs": [
        {
          "output_type": "stream",
          "name": "stdout",
          "text": [
            "Sum of two numbers : 22\n",
            "Sum of two numbers : 26\n"
          ]
        }
      ]
    },
    {
      "cell_type": "markdown",
      "source": [
        "#6. Constructors and Destructors\n",
        "Assignment:<br>\n",
        "Create a class Logger that prints a message when an object is created (constructor) and another message when it is destroyed (destructor)."
      ],
      "metadata": {
        "id": "DCdXfE2nSFey"
      }
    },
    {
      "cell_type": "code",
      "source": [
        "class Logger:\n",
        "  def __init__(self):\n",
        "    print(\"Hey, I am created(constructor)\")\n",
        "\n",
        "  def __del__(self):\n",
        "    print(\"Hey, I am destroyed(destructor)\")\n",
        "\n",
        "if __name__ == \"__main__\":\n",
        "  log = Logger()\n",
        "  del log\n",
        "\n",
        "\n"
      ],
      "metadata": {
        "colab": {
          "base_uri": "https://localhost:8080/"
        },
        "id": "BDGRXr34SOjZ",
        "outputId": "66d42bb8-bca6-4413-f5ba-2089810336d5"
      },
      "execution_count": null,
      "outputs": [
        {
          "output_type": "stream",
          "name": "stdout",
          "text": [
            "Hey, I am created(constructor)\n",
            "Hey, I am destroyed(destructor)\n"
          ]
        }
      ]
    },
    {
      "cell_type": "markdown",
      "source": [
        "#7. Access Modifiers: Public, Private, and Protected\n",
        "Assignment:<br>\n",
        "Create a class Employee with:\n",
        "\n",
        "- a public variable name,\n",
        "\n",
        "- a protected variable _salary, and\n",
        "\n",
        "- a private variable __ssn.\n",
        "\n",
        "Try accessing all three variables from an object of the class and document what happens."
      ],
      "metadata": {
        "id": "VFlsruB1aCLh"
      }
    },
    {
      "cell_type": "code",
      "source": [
        "class Empoloyee:\n",
        "  def __init__(self, name, salary, ssn):\n",
        "    self.name = name # public variable\n",
        "    self._salary = salary # protected variable\n",
        "    self.__ssn = ssn # private variable\n",
        "\n",
        "emp = Empoloyee(\"Ali\", 50000, \"12345_6789\")\n",
        "print(\"\\nPublic variable name:\", emp.name)# we can access public anywhere in class and outside the class\n",
        "print(\"\\nProtected variable _salary:\", emp._salary)# we can access protected  in class and child-class or sub-class class we can protected variable outside class but it is not recommanded\n",
        "try:\n",
        "  print(\"Private variable __ssn:\", emp.__ssn)# we can not access private variable outside the class\n",
        "except AttributeError :\n",
        "  print(\"\\nCan't access private variable __ssn outside the class\")\n"
      ],
      "metadata": {
        "id": "c5aVyaaLWFs5",
        "colab": {
          "base_uri": "https://localhost:8080/"
        },
        "outputId": "a3788e8c-582e-4c0f-f541-a866a4f1b421"
      },
      "execution_count": null,
      "outputs": [
        {
          "output_type": "stream",
          "name": "stdout",
          "text": [
            "\n",
            "Public variable name: Ali\n",
            "\n",
            "Protected variable _salary: 50000\n",
            "\n",
            "Can't access private variable __ssn outside the class\n"
          ]
        }
      ]
    },
    {
      "cell_type": "markdown",
      "source": [
        "#8. The super() Function\n",
        "Assignment:<br>\n",
        "Create a class Person with a constructor that sets the name. Inherit a class Teacher from it, add a subject field, and use super() to call the base class constructor."
      ],
      "metadata": {
        "id": "gdRA7IfOhMgE"
      }
    },
    {
      "cell_type": "code",
      "source": [
        "class Person:\n",
        "  def __init__(self, name):\n",
        "    self.name = name\n",
        "\n",
        "class Teacher(Person):\n",
        "  def __init__(self, name, subject):\n",
        "    super().__init__(name)\n",
        "    self.subject = subject\n",
        "\n",
        "  def teacher_info(self):\n",
        "    print(f\"Teacher Name: {self.name} Subbject: {self.subject}\")\n",
        "\n",
        "\n",
        "t1 = Teacher(\"Ali\", \"Math\")\n",
        "t1.teacher_info()\n",
        "t2 = Teacher(\"Ahmed\", \"English\")\n",
        "t2.teacher_info()\n"
      ],
      "metadata": {
        "colab": {
          "base_uri": "https://localhost:8080/"
        },
        "id": "3p-RtzSmhUyB",
        "outputId": "c7200aea-4551-49ee-9c72-90b7ff2ca5e4"
      },
      "execution_count": null,
      "outputs": [
        {
          "output_type": "stream",
          "name": "stdout",
          "text": [
            "Teacher Name: Ali Subbject: Math\n",
            "Teacher Name: Ahmed Subbject: English\n"
          ]
        }
      ]
    },
    {
      "cell_type": "markdown",
      "source": [
        "#9. Abstract Classes and Methods\n",
        "Assignment:<br>\n",
        "Use the abc module to create an abstract class Shape with an abstract method area(). Inherit a class Rectangle that implements area()."
      ],
      "metadata": {
        "id": "f9gvDo89tIdS"
      }
    },
    {
      "cell_type": "code",
      "source": [
        "from abc import ABC, abstractmethod\n",
        "\n",
        "class Shape(ABC): # Inherit from ABC to make it an abstract class\n",
        "  @abstractmethod\n",
        "  def area(self):\n",
        "    pass  # No implementation (must be overridden by child classes)\n",
        "\n",
        "class Rectangle(Shape):# Inherits from shape\n",
        "  def __init__(self, length, width):\n",
        "    self.length = length\n",
        "    self.width = width\n",
        "\n",
        "  def area(self):\n",
        "    return self.length * self.width\n",
        "\n",
        "\n",
        "\n",
        "rect = Rectangle(2,5)\n",
        "rect.area()\n",
        "\n"
      ],
      "metadata": {
        "colab": {
          "base_uri": "https://localhost:8080/"
        },
        "id": "veCYd2-_taDI",
        "outputId": "eee27301-bceb-4cf6-887d-6afd75279b64"
      },
      "execution_count": null,
      "outputs": [
        {
          "output_type": "execute_result",
          "data": {
            "text/plain": [
              "10"
            ]
          },
          "metadata": {},
          "execution_count": 38
        }
      ]
    },
    {
      "cell_type": "markdown",
      "source": [
        "#10. Instance Methods\n",
        "Assignment:<br>\n",
        "Create a class Dog with instance variables name and breed. Add an instance method bark() that prints a message including the dog's name."
      ],
      "metadata": {
        "id": "3QZZb8aB8YiG"
      }
    },
    {
      "cell_type": "code",
      "source": [
        "class Dog:\n",
        "  def __init__(self, name, breed):\n",
        "    self.name = name\n",
        "    self.breed = breed\n",
        "\n",
        "  def bark(self):\n",
        "    print(f\"{self.name} say's woof!\")\n",
        "\n",
        "d1 = Dog(\"Tommy\",\"Bichon Frisé\")\n",
        "d1.bark()\n"
      ],
      "metadata": {
        "id": "EitF_s_k8lfJ",
        "colab": {
          "base_uri": "https://localhost:8080/"
        },
        "outputId": "2bd43b05-c243-47ce-bcb1-eb7ad0335d2b"
      },
      "execution_count": null,
      "outputs": [
        {
          "output_type": "stream",
          "name": "stdout",
          "text": [
            "Tommy say's woof!\n"
          ]
        }
      ]
    },
    {
      "cell_type": "markdown",
      "source": [
        "#11. Class Methods\n",
        "Assignment:<br>\n",
        "Create a class Book with a class variable total_books. Add a class method increment_book_count() to increase the count when a new book is added."
      ],
      "metadata": {
        "id": "UOs2JV4KvU27"
      }
    },
    {
      "cell_type": "code",
      "source": [
        "class Book:\n",
        "  total_books = 0 # class variable\n",
        "\n",
        "  @classmethod\n",
        "  def increment_book_count(cls):\n",
        "    Book.total_books += 1\n",
        "\n",
        "  def __init__(self,name,author):\n",
        "    self.name = name\n",
        "    self.author = author\n",
        "    Book.increment_book_count()\n",
        "\n",
        "book1 = Book(\"The World \", \"Ali\")\n",
        "book2 = Book(\"The River\", \"Ahmed\")\n",
        "print(\"Total books:\", Book.total_books)\n"
      ],
      "metadata": {
        "colab": {
          "base_uri": "https://localhost:8080/"
        },
        "id": "kzMTtFy9xAz1",
        "outputId": "ee6ed486-96c8-45f5-ec68-f23c4c7a0f3b"
      },
      "execution_count": null,
      "outputs": [
        {
          "output_type": "stream",
          "name": "stdout",
          "text": [
            "Total books: 2\n"
          ]
        }
      ]
    },
    {
      "cell_type": "markdown",
      "source": [
        "#12. Static Methods\n",
        "Assignment:<br>\n",
        "Create a class TemperatureConverter with a static method celsius_to_fahrenheit(c) that returns the Fahrenheit value."
      ],
      "metadata": {
        "id": "-73pFWve7IgA"
      }
    },
    {
      "cell_type": "code",
      "source": [
        "class  TemperatureConverter:\n",
        "\n",
        "  @staticmethod\n",
        "  def celsius_to_fahrenheit(c):\n",
        "    f = (c * 9/5) + 5\n",
        "    return f\n",
        "\n",
        "  def __init__(self, temp):\n",
        "    self.temp = temp\n",
        "\n",
        "cel = 37\n",
        "fahr = TemperatureConverter.celsius_to_fahrenheit(cel)\n",
        "print(f\"celsius: {cel}C is equal to fahrenheit: {fahr}F\")\n",
        "\n",
        "\n",
        "\n"
      ],
      "metadata": {
        "colab": {
          "base_uri": "https://localhost:8080/"
        },
        "id": "pGsAi5r57w0Z",
        "outputId": "7758dd5d-b1bf-4ac3-f450-2ec794d0e65e"
      },
      "execution_count": null,
      "outputs": [
        {
          "output_type": "stream",
          "name": "stdout",
          "text": [
            "celsius: 37C is equal to fahrenheit: 71.6F\n"
          ]
        }
      ]
    },
    {
      "cell_type": "markdown",
      "source": [
        "#13.Composition\n",
        "Assignment:<br>\n",
        "Create a class Engine and a class Car. Use composition by passing an Engine object to the Car class during initialization. Access a method of the Engine class via the Car class.\n",
        "\n"
      ],
      "metadata": {
        "id": "QVD-gGBQCHGQ"
      }
    },
    {
      "cell_type": "code",
      "source": [
        "class Engine:\n",
        "  def __init__(self, engine_type):\n",
        "    self.engine_type = engine_type\n",
        "\n",
        "  def start(self):\n",
        "    return f\"The {self.engine_type} engine is starting.\"\n",
        "\n",
        "class Car():\n",
        "  def __init__(self, brand, engine):\n",
        "    self.brand = brand\n",
        "    self.engine = engine\n",
        "\n",
        "  def start_car(self):\n",
        "    return f\"{self.brand} car is starting. {self.engine.start()}\"\n",
        "\n",
        "engine = Engine(\"V8\")\n",
        "\n",
        "car = Car(\"Toyota\", engine)\n",
        "print(car.start_car())"
      ],
      "metadata": {
        "colab": {
          "base_uri": "https://localhost:8080/"
        },
        "id": "xYZELrKwCVc5",
        "outputId": "e4adb4bf-56a0-48de-e567-c21e3aff53ed"
      },
      "execution_count": null,
      "outputs": [
        {
          "output_type": "stream",
          "name": "stdout",
          "text": [
            "Toyota car is starting The V8 engine is starting\n"
          ]
        }
      ]
    },
    {
      "cell_type": "markdown",
      "source": [
        "#14. Aggregation\n",
        "Assignment:<br>\n",
        "Create a class Department and a class Employee. Use aggregation by having a Department object store a reference to an Employee object that exists independently of it.\n",
        "\n"
      ],
      "metadata": {
        "id": "LNL7HQe0UPR5"
      }
    },
    {
      "cell_type": "code",
      "source": [
        "class Employee:\n",
        "  def __init__(self, name, emp_id):\n",
        "    self.name = name\n",
        "    self.emp_id = emp_id\n",
        "\n",
        "  def employee_info(self):\n",
        "    return f\"Employee Name: {self.name}, Employee ID: {self.emp_id}\"\n",
        "\n",
        "class Department:\n",
        "  def __init__(self, dep_name):\n",
        "    self.dep_name = dep_name\n",
        "    self.employees = []\n",
        "\n",
        "  def add(self, employee):\n",
        "    self.employees.append(employee)\n",
        "\n",
        "  def employee_info(self):\n",
        "    print(f\"\\nDepartment Name: {self.dep_name}\")\n",
        "    for emp in self.employees:\n",
        "      print(emp.employee_info())\n",
        "\n",
        "# Create Employee objects independently\n",
        "emp1 = Employee(\"Ahad\",1236)\n",
        "emp2 = Employee(\"Saad\",2244)\n",
        "emp3 = Employee(\"Saba\",1111)\n",
        "\n",
        "# Create a Department\n",
        "dept = Department(\"IT\")\n",
        "dept1 = Department(\"English\")\n",
        "\n",
        "# Add employees to the department (aggregation)\n",
        "dept.add(emp1)\n",
        "dept.add(emp2)\n",
        "\n",
        "dept1.add(emp3)\n",
        "\n",
        "# Display department details\n",
        "dept.employee_info()\n",
        "\n",
        "dept1.employee_info()\n",
        "\n",
        "# Show that employees exist independently\n",
        "print(\"\\nAccessing employee directly:\")\n",
        "print(emp1.employee_info())\n",
        "print(emp2.employee_info())\n",
        "\n",
        "\n",
        "# Demonstrate that deleting the department doesn't affect employees\n",
        "del dept\n",
        "print(\"\\nAfter deleting department, accessing employee:\")\n",
        "print(emp1.employee_info())\n",
        "print(emp2.employee_info())"
      ],
      "metadata": {
        "colab": {
          "base_uri": "https://localhost:8080/"
        },
        "id": "v8upDNlHxPmc",
        "outputId": "f7ab8397-0032-4d5e-c627-a53cd8f1cb16"
      },
      "execution_count": null,
      "outputs": [
        {
          "output_type": "stream",
          "name": "stdout",
          "text": [
            "\n",
            "Department Name: IT\n",
            "Employee Name: Ahad, Employee ID: 1236\n",
            "Employee Name: Saad, Employee ID: 2244\n",
            "\n",
            "Department Name: English\n",
            "Employee Name: Saba, Employee ID: 1111\n",
            "\n",
            "Accessing employee directly:\n",
            "Employee Name: Ahad, Employee ID: 1236\n",
            "Employee Name: Saad, Employee ID: 2244\n",
            "\n",
            "After deleting department, accessing employee:\n",
            "Employee Name: Ahad, Employee ID: 1236\n",
            "Employee Name: Saad, Employee ID: 2244\n"
          ]
        }
      ]
    },
    {
      "cell_type": "markdown",
      "source": [
        "#15.Method Resolution Order (MRO) and Diamond Inheritance\n",
        "Assignment:<br>\n",
        "Create four classes:\n",
        "\n",
        "- A with a method show(),\n",
        "\n",
        "- B and C that inherit from A and override show(),\n",
        "\n",
        "- D that inherits from both B and C.\n",
        "\n",
        "Create an object of D and call show() to observe MRO."
      ],
      "metadata": {
        "id": "FBKHXZPzgMbs"
      }
    },
    {
      "cell_type": "code",
      "source": [
        "class A:\n",
        "  def show(self):\n",
        "    print(\"show() from class A\")\n",
        "\n",
        "class B(A):# inherit class A\n",
        "  def show(self):# override\n",
        "    print(\"show() from class B\")\n",
        "\n",
        "class C(A):# inherit class A\n",
        "  def show(self):# override\n",
        "    print(\"show() from class C\")\n",
        "\n",
        "class D(B,C):# inherit class B and C\n",
        "  pass\n",
        "# class D(B, C):\n",
        "#   def show(self):\n",
        "#       print(\"show() from class D\")\n",
        "\n",
        "d = D()\n",
        "d.show()  # Calls show() from class B (first in MRO)\n",
        "\n",
        "\n",
        "print(\"\\nMRO for class D:\", D.__mro__)"
      ],
      "metadata": {
        "colab": {
          "base_uri": "https://localhost:8080/"
        },
        "id": "dx38kRkoh6jX",
        "outputId": "32382537-4555-4fb8-d56c-7e35c5aa91f8"
      },
      "execution_count": null,
      "outputs": [
        {
          "output_type": "stream",
          "name": "stdout",
          "text": [
            "show() from class B\n",
            "\n",
            "MRO for class D: (<class '__main__.D'>, <class '__main__.B'>, <class '__main__.C'>, <class '__main__.A'>, <class 'object'>)\n"
          ]
        }
      ]
    },
    {
      "cell_type": "markdown",
      "source": [
        "#16. Function Decorators\n",
        "Assignment:<br>\n",
        "Write a decorator function log_function_call that prints \"Function is being called\" before a function executes. Apply it to a function say_hello()."
      ],
      "metadata": {
        "id": "BOxMZwAFl8Ck"
      }
    },
    {
      "cell_type": "code",
      "source": [
        "def log_function_call(fun):\n",
        "  def wrapper():\n",
        "    print(\"Function is being called\")\n",
        "    return fun()\n",
        "  return wrapper\n",
        "\n",
        "@log_function_call\n",
        "def say_hello():\n",
        "    print(\"Hello!\")\n",
        "\n",
        "say_hello()"
      ],
      "metadata": {
        "colab": {
          "base_uri": "https://localhost:8080/"
        },
        "id": "R0e0K8tXmIjT",
        "outputId": "1ccbc578-e82e-420b-9b5e-431f6c6e29d6"
      },
      "execution_count": null,
      "outputs": [
        {
          "output_type": "stream",
          "name": "stdout",
          "text": [
            "Function is being called\n",
            "Hello!\n"
          ]
        }
      ]
    },
    {
      "cell_type": "markdown",
      "source": [
        "#17. Class Decorators\n",
        "Assignment:<br>\n",
        "Create a class decorator add_greeting that modifies a class to add a greet() method returning \"Hello from Decorator!\". Apply it to a class Person."
      ],
      "metadata": {
        "id": "aKWCnXsI0qjY"
      }
    },
    {
      "cell_type": "code",
      "source": [
        "def add_greeting(cls):\n",
        "    def greet(self):\n",
        "        return \"Hello from Decorator!\"\n",
        "    cls.greet = greet\n",
        "    return cls\n",
        "\n",
        "@add_greeting\n",
        "class Person:\n",
        "    def __init__(self, name):\n",
        "        self.name = name\n",
        "\n",
        "# Test the implementation\n",
        "if __name__ == \"__main__\":\n",
        "    person = Person(\"Alice\")\n",
        "    print(f\"{person.name}, {person.greet()}\")  # Output: Hello from Decorator!\n",
        "\n",
        "\n",
        "\n"
      ],
      "metadata": {
        "colab": {
          "base_uri": "https://localhost:8080/"
        },
        "id": "3-DzuKkz01Hy",
        "outputId": "2e76f622-a0bf-457b-bf9e-42a3ba73eecb"
      },
      "execution_count": 25,
      "outputs": [
        {
          "output_type": "stream",
          "name": "stdout",
          "text": [
            "Alice, Hello from Decorator!\n"
          ]
        }
      ]
    },
    {
      "cell_type": "markdown",
      "source": [
        "#18. Property Decorators: @property, @setter, and @deleter\n",
        "Assignment:<br>\n",
        "Create a class Product with a private attribute _price. Use @property to get the price, @price.setter to update it, and @price.deleter to delete it."
      ],
      "metadata": {
        "id": "ijDcTvIpCwsC"
      }
    },
    {
      "cell_type": "code",
      "source": [
        "class Product:\n",
        "  def __init__(self, name, price):\n",
        "    self.name = name\n",
        "    self.__price = price\n",
        "\n",
        "  @property\n",
        "  def price(self):\n",
        "    return self.__price\n",
        "\n",
        "  @price.setter\n",
        "  def price(self, value):\n",
        "    if value < 0 :\n",
        "      raise ValueError(\"Price can't be negative\")\n",
        "    self.__price = value\n",
        "\n",
        "  @price.deleter\n",
        "  def price(self):\n",
        "    del self.__price\n",
        "\n",
        "# Test the implementation\n",
        "if __name__ == \"__main__\":\n",
        "  product = Product(\"Mobile\",10000)\n",
        "\n",
        "  print(product.price)\n",
        "\n",
        "  product.price = 12000\n",
        "  print(product.price)\n",
        "\n",
        "\n",
        "  # print(product.__price)    # Raises AttributeError: 'Product' object has no attribute '__price'\n",
        "  #print(product._Product__price)  # Would print 1200, but this is discouraged\n",
        "\n",
        "del product\n",
        "# print(product.price)      # Raises AttributeError: 'Product' object has no attribute '_Product__price'"
      ],
      "metadata": {
        "colab": {
          "base_uri": "https://localhost:8080/"
        },
        "id": "Kdp0kA0_FWe5",
        "outputId": "7780129c-4f30-49fb-8692-ad27c977e766"
      },
      "execution_count": 37,
      "outputs": [
        {
          "output_type": "stream",
          "name": "stdout",
          "text": [
            "10000\n",
            "12000\n"
          ]
        }
      ]
    },
    {
      "cell_type": "markdown",
      "source": [
        "#19. callable() and __call__()\n",
        "Assignment:<br>\n",
        "Create a class Multiplier with an __init__() to set a factor. Define a __call__() method that multiplies an input by the factor. Test it with callable() and by calling the object like a function.\n",
        "\n"
      ],
      "metadata": {
        "id": "fpwU3SCIf3m8"
      }
    },
    {
      "cell_type": "code",
      "source": [
        "class Multiplier:\n",
        "  def __init__(self, factor):\n",
        "    self.factor = factor\n",
        "\n",
        "  def __call__(self, number):\n",
        "    return self.factor * number\n",
        "\n",
        "\n",
        "# Test the implementation\n",
        "if __name__ == \"__main__\":\n",
        "    # Create a Multiplier instance with factor 3\n",
        "    multiplier = Multiplier(3)\n",
        "\n",
        "    # Test if the object is callable\n",
        "    print(callable(multiplier))  # Output: True\n",
        "\n",
        "    # Test calling the object like a function\n",
        "    print(multiplier(5))  # Output: 15 (3 * 5)\n",
        "    print(multiplier(10)) # Output: 30 (3 * 10)"
      ],
      "metadata": {
        "colab": {
          "base_uri": "https://localhost:8080/"
        },
        "id": "Vej_8Lkog6lq",
        "outputId": "2c1c7546-6740-4ce0-9e86-14c0b5e1e090"
      },
      "execution_count": 44,
      "outputs": [
        {
          "output_type": "stream",
          "name": "stdout",
          "text": [
            "True\n",
            "15\n",
            "30\n"
          ]
        }
      ]
    },
    {
      "cell_type": "markdown",
      "source": [
        "#20. Creating a Custom Exception\n",
        "Assignment:<br>\n",
        "Create a custom exception InvalidAgeError. Write a function check_age(age) that raises this exception if age < 18. Handle it with try...except."
      ],
      "metadata": {
        "id": "3C_rUsA0pGme"
      }
    },
    {
      "cell_type": "code",
      "source": [
        "def check_age(age):\n",
        "  if age < 18:\n",
        "    raise InvalidAgeError(\"Age must be greater than 18\")\n",
        "  return f\"Age {age} is valid\"\n",
        "\n",
        "class InvalidAgeError(Exception):\n",
        "  pass\n",
        "\n",
        "\n",
        "try:\n",
        "  print(check_age(25))\n",
        "  print(check_age(15))\n",
        "except InvalidAgeError as e:\n",
        "  print(e)\n",
        "\n"
      ],
      "metadata": {
        "colab": {
          "base_uri": "https://localhost:8080/"
        },
        "id": "t88Udr6J2T6k",
        "outputId": "e8d387a3-28ee-47d3-daf5-d8fb7bbe8914"
      },
      "execution_count": 53,
      "outputs": [
        {
          "output_type": "stream",
          "name": "stdout",
          "text": [
            "Age 25 is valid\n",
            "Age must be greater than 18\n"
          ]
        }
      ]
    },
    {
      "cell_type": "markdown",
      "source": [
        "#21. Make a Custom Class Iterable\n",
        "Assignment:<br>\n",
        "Create a class Countdown that takes a start number. Implement __iter__() and __next__() to make the object iterable in a for-loop, counting down to 0."
      ],
      "metadata": {
        "id": "HicvpEEV6MHX"
      }
    },
    {
      "cell_type": "code",
      "source": [
        "\n",
        "class Countdown:\n",
        "    def __init__(self, start):\n",
        "        self.start = start\n",
        "        self.current = start + 1  # Initialize current to start + 1 for first decrement\n",
        "\n",
        "    def __iter__(self):\n",
        "        return self\n",
        "\n",
        "    def __next__(self):\n",
        "        if self.current <= 0:\n",
        "            raise StopIteration\n",
        "        self.current -= 1\n",
        "        return self.current\n",
        "\n",
        "# Test the implementation\n",
        "if __name__ == \"__main__\":\n",
        "    countdown = Countdown(5)\n",
        "    for num in countdown:\n",
        "        print(num)"
      ],
      "metadata": {
        "colab": {
          "base_uri": "https://localhost:8080/"
        },
        "id": "UAMCQtnA7rCH",
        "outputId": "322e8c02-e54f-40c0-81d6-130fdaed4945"
      },
      "execution_count": 55,
      "outputs": [
        {
          "output_type": "stream",
          "name": "stdout",
          "text": [
            "5\n",
            "4\n",
            "3\n",
            "2\n",
            "1\n",
            "0\n"
          ]
        }
      ]
    }
  ]
}